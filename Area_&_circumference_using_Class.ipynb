{
  "nbformat": 4,
  "nbformat_minor": 0,
  "metadata": {
    "colab": {
      "name": "Area & circumference using Class.ipynb",
      "provenance": []
    },
    "kernelspec": {
      "name": "python3",
      "display_name": "Python 3"
    },
    "language_info": {
      "name": "python"
    }
  },
  "cells": [
    {
      "cell_type": "code",
      "execution_count": 3,
      "metadata": {
        "colab": {
          "base_uri": "https://localhost:8080/"
        },
        "id": "FgOKl1ieEaPG",
        "outputId": "28d0fb5a-e6f0-4ee0-f021-56c5384f6de1"
      },
      "outputs": [
        {
          "output_type": "stream",
          "name": "stdout",
          "text": [
            "Enter the radius56\n",
            "Area: 9852.03456165759\n",
            "Circumference: 351.85837720205683\n"
          ]
        }
      ],
      "source": [
        "from  math import *\n",
        "class circle:\n",
        "  def area (self, r ):\n",
        "    self.r = r\n",
        "    self.a= pi*pow(r,2)\n",
        "    return self.a\n",
        "\n",
        "  def circumference (self, r):\n",
        "    self.r = r\n",
        "    self.c = 2*pi*r\n",
        "    return self.c\n",
        "\n",
        "c1 = circle()\n",
        "rad = int(input(\"Enter the radius\"))\n",
        "print(\"Area:\", c1.area(rad))\n",
        "print(\"Circumference:\",c1.circumference(rad))"
      ]
    }
  ]
}